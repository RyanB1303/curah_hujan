{
 "cells": [
  {
   "cell_type": "code",
   "execution_count": 1,
   "id": "3583c464",
   "metadata": {},
   "outputs": [],
   "source": [
    "import pandas as pd\n",
    "import numpy as np\n",
    "import matplotlib.pyplot as plt\n",
    "import seaborn as sns\n",
    "import datetime\n",
    "from datetime import timedelta\n",
    "%matplotlib inline"
   ]
  },
  {
   "cell_type": "code",
   "execution_count": 2,
   "id": "25f89d29",
   "metadata": {},
   "outputs": [],
   "source": [
    "# read excel file\n",
    "df_asli = pd.read_excel('./data/kemayoran 2000-2022.xlsx')"
   ]
  },
  {
   "cell_type": "code",
   "execution_count": 3,
   "id": "85a92696",
   "metadata": {},
   "outputs": [
    {
     "data": {
      "text/html": [
       "<div>\n",
       "<style scoped>\n",
       "    .dataframe tbody tr th:only-of-type {\n",
       "        vertical-align: middle;\n",
       "    }\n",
       "\n",
       "    .dataframe tbody tr th {\n",
       "        vertical-align: top;\n",
       "    }\n",
       "\n",
       "    .dataframe thead th {\n",
       "        text-align: right;\n",
       "    }\n",
       "</style>\n",
       "<table border=\"1\" class=\"dataframe\">\n",
       "  <thead>\n",
       "    <tr style=\"text-align: right;\">\n",
       "      <th></th>\n",
       "      <th>Tanggal</th>\n",
       "      <th>RR</th>\n",
       "    </tr>\n",
       "  </thead>\n",
       "  <tbody>\n",
       "    <tr>\n",
       "      <th>0</th>\n",
       "      <td>01-01-2000</td>\n",
       "      <td>9.1</td>\n",
       "    </tr>\n",
       "    <tr>\n",
       "      <th>1</th>\n",
       "      <td>02-01-2000</td>\n",
       "      <td>8888.0</td>\n",
       "    </tr>\n",
       "    <tr>\n",
       "      <th>2</th>\n",
       "      <td>03-01-2000</td>\n",
       "      <td>8888.0</td>\n",
       "    </tr>\n",
       "    <tr>\n",
       "      <th>3</th>\n",
       "      <td>04-01-2000</td>\n",
       "      <td>50.2</td>\n",
       "    </tr>\n",
       "    <tr>\n",
       "      <th>4</th>\n",
       "      <td>05-01-2000</td>\n",
       "      <td>1.6</td>\n",
       "    </tr>\n",
       "    <tr>\n",
       "      <th>...</th>\n",
       "      <td>...</td>\n",
       "      <td>...</td>\n",
       "    </tr>\n",
       "    <tr>\n",
       "      <th>8151</th>\n",
       "      <td>26-04-2022</td>\n",
       "      <td>26.4</td>\n",
       "    </tr>\n",
       "    <tr>\n",
       "      <th>8152</th>\n",
       "      <td>27-04-2022</td>\n",
       "      <td>8888.0</td>\n",
       "    </tr>\n",
       "    <tr>\n",
       "      <th>8153</th>\n",
       "      <td>28-04-2022</td>\n",
       "      <td>7.5</td>\n",
       "    </tr>\n",
       "    <tr>\n",
       "      <th>8154</th>\n",
       "      <td>29-04-2022</td>\n",
       "      <td>8888.0</td>\n",
       "    </tr>\n",
       "    <tr>\n",
       "      <th>8155</th>\n",
       "      <td>30-04-2022</td>\n",
       "      <td>0.0</td>\n",
       "    </tr>\n",
       "  </tbody>\n",
       "</table>\n",
       "<p>8156 rows × 2 columns</p>\n",
       "</div>"
      ],
      "text/plain": [
       "         Tanggal      RR\n",
       "0     01-01-2000     9.1\n",
       "1     02-01-2000  8888.0\n",
       "2     03-01-2000  8888.0\n",
       "3     04-01-2000    50.2\n",
       "4     05-01-2000     1.6\n",
       "...          ...     ...\n",
       "8151  26-04-2022    26.4\n",
       "8152  27-04-2022  8888.0\n",
       "8153  28-04-2022     7.5\n",
       "8154  29-04-2022  8888.0\n",
       "8155  30-04-2022     0.0\n",
       "\n",
       "[8156 rows x 2 columns]"
      ]
     },
     "execution_count": 3,
     "metadata": {},
     "output_type": "execute_result"
    }
   ],
   "source": [
    "# hasil excel\n",
    "df_asli"
   ]
  },
  {
   "cell_type": "code",
   "execution_count": 8,
   "id": "5ce3b1c3",
   "metadata": {},
   "outputs": [
    {
     "name": "stdout",
     "output_type": "stream",
     "text": [
      "<class 'pandas.core.frame.DataFrame'>\n",
      "RangeIndex: 8156 entries, 0 to 8155\n",
      "Data columns (total 2 columns):\n",
      " #   Column   Non-Null Count  Dtype         \n",
      "---  ------   --------------  -----         \n",
      " 0   Tanggal  8156 non-null   datetime64[ns]\n",
      " 1   RR       7883 non-null   float64       \n",
      "dtypes: datetime64[ns](1), float64(1)\n",
      "memory usage: 127.6 KB\n"
     ]
    }
   ],
   "source": [
    "train = df_asli\n",
    "train['Tanggal'] = pd.to_datetime(train['Tanggal'], infer_datetime_format=True)\n",
    "train.info()"
   ]
  },
  {
   "cell_type": "code",
   "execution_count": 9,
   "id": "8eb51008",
   "metadata": {
    "scrolled": true
   },
   "outputs": [
    {
     "data": {
      "text/html": [
       "<div>\n",
       "<style scoped>\n",
       "    .dataframe tbody tr th:only-of-type {\n",
       "        vertical-align: middle;\n",
       "    }\n",
       "\n",
       "    .dataframe tbody tr th {\n",
       "        vertical-align: top;\n",
       "    }\n",
       "\n",
       "    .dataframe thead th {\n",
       "        text-align: right;\n",
       "    }\n",
       "</style>\n",
       "<table border=\"1\" class=\"dataframe\">\n",
       "  <thead>\n",
       "    <tr style=\"text-align: right;\">\n",
       "      <th></th>\n",
       "      <th>Tanggal</th>\n",
       "      <th>RR</th>\n",
       "    </tr>\n",
       "  </thead>\n",
       "  <tbody>\n",
       "    <tr>\n",
       "      <th>8151</th>\n",
       "      <td>2022-04-26</td>\n",
       "      <td>26.4</td>\n",
       "    </tr>\n",
       "    <tr>\n",
       "      <th>8152</th>\n",
       "      <td>2022-04-27</td>\n",
       "      <td>8888.0</td>\n",
       "    </tr>\n",
       "    <tr>\n",
       "      <th>8153</th>\n",
       "      <td>2022-04-28</td>\n",
       "      <td>7.5</td>\n",
       "    </tr>\n",
       "    <tr>\n",
       "      <th>8154</th>\n",
       "      <td>2022-04-29</td>\n",
       "      <td>8888.0</td>\n",
       "    </tr>\n",
       "    <tr>\n",
       "      <th>8155</th>\n",
       "      <td>2022-04-30</td>\n",
       "      <td>0.0</td>\n",
       "    </tr>\n",
       "  </tbody>\n",
       "</table>\n",
       "</div>"
      ],
      "text/plain": [
       "        Tanggal      RR\n",
       "8151 2022-04-26    26.4\n",
       "8152 2022-04-27  8888.0\n",
       "8153 2022-04-28     7.5\n",
       "8154 2022-04-29  8888.0\n",
       "8155 2022-04-30     0.0"
      ]
     },
     "execution_count": 9,
     "metadata": {},
     "output_type": "execute_result"
    }
   ],
   "source": [
    "# dataframe prediksi\n",
    "train.tail()"
   ]
  },
  {
   "cell_type": "code",
   "execution_count": 11,
   "id": "30f763ce",
   "metadata": {},
   "outputs": [
    {
     "data": {
      "text/plain": [
       "Tanggal      0\n",
       "RR         273\n",
       "dtype: int64"
      ]
     },
     "execution_count": 11,
     "metadata": {},
     "output_type": "execute_result"
    }
   ],
   "source": [
    "# check nilai null\n",
    "# jumlah null value train\n",
    "train.isnull().sum()"
   ]
  },
  {
   "cell_type": "code",
   "execution_count": 12,
   "id": "3bc62e6c",
   "metadata": {},
   "outputs": [
    {
     "data": {
      "text/plain": [
       "Tanggal    0\n",
       "RR         0\n",
       "dtype: int64"
      ]
     },
     "execution_count": 12,
     "metadata": {},
     "output_type": "execute_result"
    }
   ],
   "source": [
    "# replace NaN ke 0\n",
    "df_predict_clean = train.fillna(0)\n",
    "# cek NaN di df baru\n",
    "df_predict_clean.isnull().sum()"
   ]
  },
  {
   "cell_type": "code",
   "execution_count": 36,
   "id": "c973069a",
   "metadata": {},
   "outputs": [
    {
     "data": {
      "text/html": [
       "<div>\n",
       "<style scoped>\n",
       "    .dataframe tbody tr th:only-of-type {\n",
       "        vertical-align: middle;\n",
       "    }\n",
       "\n",
       "    .dataframe tbody tr th {\n",
       "        vertical-align: top;\n",
       "    }\n",
       "\n",
       "    .dataframe thead th {\n",
       "        text-align: right;\n",
       "    }\n",
       "</style>\n",
       "<table border=\"1\" class=\"dataframe\">\n",
       "  <thead>\n",
       "    <tr style=\"text-align: right;\">\n",
       "      <th></th>\n",
       "      <th>RR</th>\n",
       "    </tr>\n",
       "    <tr>\n",
       "      <th>Tanggal</th>\n",
       "      <th></th>\n",
       "    </tr>\n",
       "  </thead>\n",
       "  <tbody>\n",
       "    <tr>\n",
       "      <th>2000-01-01</th>\n",
       "      <td>9.1</td>\n",
       "    </tr>\n",
       "    <tr>\n",
       "      <th>2000-02-01</th>\n",
       "      <td>8888.0</td>\n",
       "    </tr>\n",
       "    <tr>\n",
       "      <th>2000-03-01</th>\n",
       "      <td>8888.0</td>\n",
       "    </tr>\n",
       "    <tr>\n",
       "      <th>2000-04-01</th>\n",
       "      <td>50.2</td>\n",
       "    </tr>\n",
       "    <tr>\n",
       "      <th>2000-05-01</th>\n",
       "      <td>1.6</td>\n",
       "    </tr>\n",
       "    <tr>\n",
       "      <th>...</th>\n",
       "      <td>...</td>\n",
       "    </tr>\n",
       "    <tr>\n",
       "      <th>2022-04-26</th>\n",
       "      <td>26.4</td>\n",
       "    </tr>\n",
       "    <tr>\n",
       "      <th>2022-04-27</th>\n",
       "      <td>8888.0</td>\n",
       "    </tr>\n",
       "    <tr>\n",
       "      <th>2022-04-28</th>\n",
       "      <td>7.5</td>\n",
       "    </tr>\n",
       "    <tr>\n",
       "      <th>2022-04-29</th>\n",
       "      <td>8888.0</td>\n",
       "    </tr>\n",
       "    <tr>\n",
       "      <th>2022-04-30</th>\n",
       "      <td>0.0</td>\n",
       "    </tr>\n",
       "  </tbody>\n",
       "</table>\n",
       "<p>8156 rows × 1 columns</p>\n",
       "</div>"
      ],
      "text/plain": [
       "                RR\n",
       "Tanggal           \n",
       "2000-01-01     9.1\n",
       "2000-02-01  8888.0\n",
       "2000-03-01  8888.0\n",
       "2000-04-01    50.2\n",
       "2000-05-01     1.6\n",
       "...            ...\n",
       "2022-04-26    26.4\n",
       "2022-04-27  8888.0\n",
       "2022-04-28     7.5\n",
       "2022-04-29  8888.0\n",
       "2022-04-30     0.0\n",
       "\n",
       "[8156 rows x 1 columns]"
      ]
     },
     "execution_count": 36,
     "metadata": {},
     "output_type": "execute_result"
    }
   ],
   "source": [
    "df_predict_clean"
   ]
  },
  {
   "cell_type": "code",
   "execution_count": 42,
   "id": "b5b3b19e",
   "metadata": {},
   "outputs": [
    {
     "data": {
      "text/html": [
       "<div>\n",
       "<style scoped>\n",
       "    .dataframe tbody tr th:only-of-type {\n",
       "        vertical-align: middle;\n",
       "    }\n",
       "\n",
       "    .dataframe tbody tr th {\n",
       "        vertical-align: top;\n",
       "    }\n",
       "\n",
       "    .dataframe thead th {\n",
       "        text-align: right;\n",
       "    }\n",
       "</style>\n",
       "<table border=\"1\" class=\"dataframe\">\n",
       "  <thead>\n",
       "    <tr style=\"text-align: right;\">\n",
       "      <th></th>\n",
       "      <th>RR</th>\n",
       "    </tr>\n",
       "    <tr>\n",
       "      <th>Tanggal</th>\n",
       "      <th></th>\n",
       "    </tr>\n",
       "  </thead>\n",
       "  <tbody>\n",
       "    <tr>\n",
       "      <th>2000-02-01</th>\n",
       "      <td>8888.0</td>\n",
       "    </tr>\n",
       "    <tr>\n",
       "      <th>2000-03-01</th>\n",
       "      <td>8888.0</td>\n",
       "    </tr>\n",
       "    <tr>\n",
       "      <th>2000-08-01</th>\n",
       "      <td>8888.0</td>\n",
       "    </tr>\n",
       "    <tr>\n",
       "      <th>2000-01-17</th>\n",
       "      <td>8888.0</td>\n",
       "    </tr>\n",
       "    <tr>\n",
       "      <th>2000-01-31</th>\n",
       "      <td>8888.0</td>\n",
       "    </tr>\n",
       "    <tr>\n",
       "      <th>...</th>\n",
       "      <td>...</td>\n",
       "    </tr>\n",
       "    <tr>\n",
       "      <th>2022-02-14</th>\n",
       "      <td>8888.0</td>\n",
       "    </tr>\n",
       "    <tr>\n",
       "      <th>2022-07-04</th>\n",
       "      <td>8888.0</td>\n",
       "    </tr>\n",
       "    <tr>\n",
       "      <th>2022-08-04</th>\n",
       "      <td>8888.0</td>\n",
       "    </tr>\n",
       "    <tr>\n",
       "      <th>2022-04-27</th>\n",
       "      <td>8888.0</td>\n",
       "    </tr>\n",
       "    <tr>\n",
       "      <th>2022-04-29</th>\n",
       "      <td>8888.0</td>\n",
       "    </tr>\n",
       "  </tbody>\n",
       "</table>\n",
       "<p>470 rows × 1 columns</p>\n",
       "</div>"
      ],
      "text/plain": [
       "                RR\n",
       "Tanggal           \n",
       "2000-02-01  8888.0\n",
       "2000-03-01  8888.0\n",
       "2000-08-01  8888.0\n",
       "2000-01-17  8888.0\n",
       "2000-01-31  8888.0\n",
       "...            ...\n",
       "2022-02-14  8888.0\n",
       "2022-07-04  8888.0\n",
       "2022-08-04  8888.0\n",
       "2022-04-27  8888.0\n",
       "2022-04-29  8888.0\n",
       "\n",
       "[470 rows x 1 columns]"
      ]
     },
     "execution_count": 42,
     "metadata": {},
     "output_type": "execute_result"
    }
   ],
   "source": [
    "delapan_ribu = df_predict_clean[df_predict_clean['RR'] > 100.0]\n",
    "delapan_ribu"
   ]
  },
  {
   "cell_type": "code",
   "execution_count": 21,
   "id": "e6feefbe",
   "metadata": {},
   "outputs": [
    {
     "data": {
      "text/plain": [
       "<AxesSubplot:xlabel='Tanggal', ylabel='RR'>"
      ]
     },
     "execution_count": 21,
     "metadata": {},
     "output_type": "execute_result"
    },
    {
     "data": {
      "image/png": "[encoded data removed]",
      "text/plain": [
       "<Figure size 432x288 with 1 Axes>"
      ]
     },
     "metadata": {
      "needs_background": "light"
     },
     "output_type": "display_data"
    }
   ],
   "source": [
    "# plotting data setelah clean\n",
    "sns.lineplot(x=\"Tanggal\", y=\"RR\", data=df_predict_clean)"
   ]
  },
  {
   "cell_type": "markdown",
   "id": "948fd893",
   "metadata": {},
   "source": [
    "# Identifikasi Data"
   ]
  },
  {
   "cell_type": "code",
   "execution_count": null,
   "id": "d9b5797c",
   "metadata": {},
   "outputs": [],
   "source": [
    "from statsmodels.tsa.seasonal import seasonal_decompose\n",
    "result = seasonal_decompose(df_predict_clean['RR'], model='additive')\n",
    "\n",
    "fig = plt.figure()\n",
    "fig = result.plot()\n",
    "fig.set_size_inches(20,12)"
   ]
  },
  {
   "cell_type": "markdown",
   "id": "254e987b",
   "metadata": {},
   "source": [
    "# Visualisasi"
   ]
  },
  {
   "cell_type": "code",
   "execution_count": null,
   "id": "c598c617",
   "metadata": {},
   "outputs": [],
   "source": [
    "sns.lineplot(data=df_predict_tahun_clean,x='tahun',y='RR',color='green')"
   ]
  },
  {
   "cell_type": "code",
   "execution_count": null,
   "id": "eda3139f",
   "metadata": {},
   "outputs": [],
   "source": [
    "# data maksimal hingga 2005\n",
    "df_test = df_predict_tahun_clean[df_predict_tahun_clean['tahun'] <= 2010]"
   ]
  },
  {
   "cell_type": "code",
   "execution_count": null,
   "id": "b38b3d88",
   "metadata": {},
   "outputs": [],
   "source": [
    "df_test.info"
   ]
  },
  {
   "cell_type": "code",
   "execution_count": null,
   "id": "9e07244f",
   "metadata": {},
   "outputs": [],
   "source": [
    "sns.lineplot(data=df_test,x='tahun',y='RR',color='green')"
   ]
  },
  {
   "cell_type": "code",
   "execution_count": null,
   "id": "c93a8d1e",
   "metadata": {},
   "outputs": [],
   "source": [
    "# avg data clean\n",
    "avg_data_clean = pd.DataFrame(df_predict_tahun_clean.groupby('tahun')['RR'].apply(np.mean))"
   ]
  },
  {
   "cell_type": "code",
   "execution_count": null,
   "id": "4f42442b",
   "metadata": {},
   "outputs": [],
   "source": [
    "avg_data_clean.plot()\n",
    "plt.show()"
   ]
  },
  {
   "cell_type": "code",
   "execution_count": null,
   "id": "5d681b1b",
   "metadata": {},
   "outputs": [],
   "source": [
    "avg_df_test = pd.DataFrame(df_test.groupby('tahun')['RR'].apply(np.mean))"
   ]
  },
  {
   "cell_type": "code",
   "execution_count": null,
   "id": "8273fe02",
   "metadata": {},
   "outputs": [],
   "source": [
    "avg_df_test.plot()\n",
    "plt.show()"
   ]
  },
  {
   "cell_type": "code",
   "execution_count": null,
   "id": "839b97d6",
   "metadata": {},
   "outputs": [],
   "source": [
    "df_predict_tahun_clean"
   ]
  },
  {
   "cell_type": "code",
   "execution_count": null,
   "id": "f8a7d752",
   "metadata": {},
   "outputs": [],
   "source": [
    "# sarima model with avg_df_test\n",
    "from statsmodels.tsa.statespace.sarimax import SARIMAX\n",
    "s_mod = SARIMAX(avg_df_test['RR'],order=(1,1,0),seasonal_order=(0,0,0,1))\n",
    "prediksi_1 = s_mod.fit().predict()"
   ]
  }
 ],
 "metadata": {
  "kernelspec": {
   "display_name": "Python 3 (ipykernel)",
   "language": "python",
   "name": "python3"
  },
  "language_info": {
   "codemirror_mode": {
    "name": "ipython",
    "version": 3
   },
   "file_extension": ".py",
   "mimetype": "text/x-python",
   "name": "python",
   "nbconvert_exporter": "python",
   "pygments_lexer": "ipython3",
   "version": "3.9.12"
  }
 },
 "nbformat": 4,
 "nbformat_minor": 5
}
